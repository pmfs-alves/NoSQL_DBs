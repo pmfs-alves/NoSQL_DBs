{
 "cells": [
  {
   "cell_type": "raw",
   "metadata": {},
   "source": [
    "# Big Data Modeling and Management Assigment\n",
    "\n",
    "\n",
    "## 🍺 The Beer project  🍺 \n",
    "\n",
    "As it was shown in classes, graph databases are a natural way of navegating distinct types of data. For this first project we will be taking a graph database to analyse beer and breweries!   \n",
    "\n",
    "_For reference the dataset used for this project has been extracted from [kaggle](https://www.kaggle.com/ehallmar/beers-breweries-and-beer-reviews), released by Evan Hallmark. Even though the author does not present metada on the origin of the data it is probably a collection of open data from places like [beeradvocate](https://www.beeradvocate.com/)_ \n",
    "\n",
    "#### Problem description\n",
    "\n",
    "Explore the database via python neo4j connector and/or the graphical tool in the NEO4J webpage. Answer the questions. Submit the results by following the instructions\n",
    "\n",
    "#### Connection details to the neo4j database\n",
    "```\n",
    "Host: yourserver.yourdomain:7474  \n",
    "Username: youruser  \n",
    "Password: yourpassword\n",
    "Connect URL : bolt://yourserver.yourdomain\n",
    "```\n",
    "\n",
    "\n",
    "#### Questions\n",
    "\n",
    "__Example__ Question _\n",
    "\n",
    "0. How many beers does the database contain?_\n",
    "1. How many countries are accounted in this database?\n",
    "1. Which entity holds the most reviews:  \n",
    "    1. Beer?  \n",
    "    1. Brewery?\n",
    "    1. Country? \n",
    "1. Find the user/users that have the most shared reviews(reviews or the same beers) with the user CTJman?\n",
    "1. Which Portuguese brand has the most beers?\n",
    "1. Out of those beers, which has the most reviews?\n",
    "1. On average how many different beer styles does each brewery produce?\n",
    "1. Which brewery produces the strongest beers according to ABV?\n",
    "1. If I typically enjoy a beer due to its aroma and appearance, which beer style should I try?\n",
    "1. If you had to pick 3 beers to recommend using only this data, which would you pick?\n",
    "\n",
    "##### Groups  \n",
    "Groups should have 3 to 4 people  \n",
    "You should register your group in the link:\n",
    "- \"link removed\"\n",
    "\n",
    "\n",
    "##### Submission      \n",
    "\n",
    "Submission of the query results to be done to the redis database (explained on the first class), with the exception of question 9.  \n",
    "The following format is expected:\n",
    "```\n",
    "    >>> redis.set(\"GROUP1:0\", \"358873\")\n",
    "```\n",
    "\n",
    "This result should be the anwser of group 1 to question 0\n",
    "\n",
    "The solutions with the code used to produce the results and respective explations should be uploaded to moodle. They should have a clear reference to the group, either on the file name or on the document itself. Preferably one Jupyter notebook per group.\n",
    "\n",
    "Delivery date: Until the **midnight of May 7th**\n",
    "\n",
    "##### Evaluation   \n",
    "\n",
    "This will be 15% of the final grade.   \n",
    "Each solution will be evaluate on 2 components: correctness of results and simplicity of the solution.  \n",
    "All code will go through plagiarism automated checks. Groups with the same code will undergo investigation."
   ]
  },
  {
   "cell_type": "markdown",
   "metadata": {},
   "source": [
    "### Imports"
   ]
  },
  {
   "cell_type": "code",
   "execution_count": 1,
   "metadata": {},
   "outputs": [
    {
     "name": "stdout",
     "output_type": "stream",
     "text": [
      "4.2.0\n"
     ]
    }
   ],
   "source": [
    "import py2neo\n",
    "from pprint import pprint\n",
    "import redis\n",
    "import json\n",
    "import credentials as cred\n",
    "\n",
    "#checking version of py2neo\n",
    "print(py2neo.__version__)"
   ]
  },
  {
   "cell_type": "markdown",
   "metadata": {},
   "source": [
    "Note: the json module needs to be imported because questions 2 and 9 are created in a json form due to the fact that these questions have more than 1 answer."
   ]
  },
  {
   "cell_type": "markdown",
   "metadata": {},
   "source": [
    "### Connect to database"
   ]
  },
  {
   "cell_type": "code",
   "execution_count": 2,
   "metadata": {},
   "outputs": [
    {
     "data": {
      "text/plain": [
       "[{'count(*)': 9647597}]"
      ]
     },
     "execution_count": 2,
     "metadata": {},
     "output_type": "execute_result"
    }
   ],
   "source": [
    "username=cred.neo4j_user\n",
    "password=cred.neo4j_pass\n",
    "host=cred.neo4j_host\n",
    "port=cred.neo4j_port\n",
    "\n",
    "secure_graph = py2neo.Graph(f\"http://{username}:{password}@{host}:{port}\")\n",
    "secure_graph.run(\"MATCH () RETURN count(*)\").data()"
   ]
  },
  {
   "cell_type": "markdown",
   "metadata": {},
   "source": [
    "### Getting the existing Labels on the database"
   ]
  },
  {
   "cell_type": "code",
   "execution_count": 3,
   "metadata": {
    "scrolled": false
   },
   "outputs": [
    {
     "name": "stdout",
     "output_type": "stream",
     "text": [
      "[{'Labels(n)': ['Reviews']},\n",
      " {'Labels(n)': ['Username']},\n",
      " {'Labels(n)': ['Breweries']},\n",
      " {'Labels(n)': ['Country']},\n",
      " {'Labels(n)': ['Beers']},\n",
      " {'Labels(n)': ['Style']}]\n"
     ]
    }
   ],
   "source": [
    "result = secure_graph.run(\"\"\"\n",
    "         MATCH (n)                   \n",
    "         RETURN distinct Labels(n)                    \n",
    "\"\"\").data() \n",
    "\n",
    "pprint(result)"
   ]
  },
  {
   "cell_type": "markdown",
   "metadata": {},
   "source": [
    "### Getting the existing relationships in the database"
   ]
  },
  {
   "cell_type": "code",
   "execution_count": 4,
   "metadata": {},
   "outputs": [
    {
     "name": "stdout",
     "output_type": "stream",
     "text": [
      "[{'TYPE(r)': 'MADE', 'labels(i)': ['Reviews']}]\n"
     ]
    }
   ],
   "source": [
    "result = secure_graph.run(\"\"\"\n",
    "        MATCH (u:Username)-[r]-(i)\n",
    "        RETURN distinct TYPE(r) , labels(i)\n",
    "\"\"\").data()\n",
    "pprint(result)"
   ]
  },
  {
   "cell_type": "code",
   "execution_count": 5,
   "metadata": {},
   "outputs": [
    {
     "name": "stdout",
     "output_type": "stream",
     "text": [
      "[{'TYPE(r)': 'BREWED_AT', 'labels(i)': ['Breweries']},\n",
      " {'TYPE(r)': 'OF_TYPE', 'labels(i)': ['Style']},\n",
      " {'TYPE(r)': 'ABOUT', 'labels(i)': ['Reviews']}]\n"
     ]
    }
   ],
   "source": [
    "result = secure_graph.run(\"\"\"\n",
    "        MATCH (b:Beers)-[r]-(i)\n",
    "        RETURN distinct TYPE(r) , labels(i)\n",
    "\"\"\").data()\n",
    "pprint(result)"
   ]
  },
  {
   "cell_type": "code",
   "execution_count": 6,
   "metadata": {},
   "outputs": [
    {
     "name": "stdout",
     "output_type": "stream",
     "text": [
      "[{'TYPE(r)': 'BREWED_AT', 'labels(i)': ['Beers']},\n",
      " {'TYPE(r)': 'FROM', 'labels(i)': ['Country']}]\n"
     ]
    }
   ],
   "source": [
    "result = secure_graph.run(\"\"\"\n",
    "        MATCH (b:Breweries)-[r]-(i)\n",
    "        RETURN distinct TYPE(r) , labels(i)\n",
    "\"\"\").data()\n",
    "pprint(result)"
   ]
  },
  {
   "cell_type": "code",
   "execution_count": 7,
   "metadata": {},
   "outputs": [
    {
     "name": "stdout",
     "output_type": "stream",
     "text": [
      "[{'TYPE(r)': 'FROM', 'labels(i)': ['Breweries']}]\n"
     ]
    }
   ],
   "source": [
    "result = secure_graph.run(\"\"\"\n",
    "        MATCH (c:Country)-[r]-(i)\n",
    "        RETURN distinct TYPE(r) , labels(i)\n",
    "\"\"\").data()\n",
    "pprint(result)"
   ]
  },
  {
   "cell_type": "code",
   "execution_count": 8,
   "metadata": {},
   "outputs": [
    {
     "name": "stdout",
     "output_type": "stream",
     "text": [
      "[{'TYPE(r)': 'ABOUT', 'labels(i)': ['Beers']},\n",
      " {'TYPE(r)': 'MADE', 'labels(i)': ['Username']}]\n"
     ]
    }
   ],
   "source": [
    "result = secure_graph.run(\"\"\"\n",
    "        MATCH (re:Reviews)-[r]-(i)\n",
    "        RETURN distinct TYPE(r) , labels(i)\n",
    "\"\"\").data()\n",
    "pprint(result)"
   ]
  },
  {
   "cell_type": "code",
   "execution_count": 9,
   "metadata": {},
   "outputs": [
    {
     "name": "stdout",
     "output_type": "stream",
     "text": [
      "[{'TYPE(r)': 'OF_TYPE', 'labels(i)': ['Beers']}]\n"
     ]
    }
   ],
   "source": [
    "result = secure_graph.run(\"\"\"\n",
    "        MATCH (s:Style)-[r]-(i)\n",
    "        RETURN distinct TYPE(r) , labels(i)\n",
    "\"\"\").data()\n",
    "pprint(result)"
   ]
  },
  {
   "cell_type": "code",
   "execution_count": 10,
   "metadata": {},
   "outputs": [
    {
     "name": "stdout",
     "output_type": "stream",
     "text": [
      "Server version 4.0.8\n",
      "Database DB0 stores 4791952 keys\n"
     ]
    }
   ],
   "source": [
    "r = redis.Redis(\n",
    "    host=cred.redis_host,                            # Url where the database is hosted\n",
    "    port=cred.redis_port,                            # Server port in which redis is running\n",
    "    password=cred.redis_pass,                        # Password to authenticate on the server\n",
    "    decode_responses=True\n",
    ")\n",
    "\n",
    "server_info = r.info()\n",
    "\n",
    "print(\"Server version \"+ server_info[\"redis_version\"])\n",
    "print(\"Database DB0 stores \"+str(server_info['db0'][\"keys\"])+\" keys\")"
   ]
  },
  {
   "cell_type": "markdown",
   "metadata": {},
   "source": [
    "**0** - How many beers does the database contain?"
   ]
  },
  {
   "cell_type": "code",
   "execution_count": 11,
   "metadata": {
    "scrolled": true
   },
   "outputs": [
    {
     "name": "stdout",
     "output_type": "stream",
     "text": [
      "[{'nr_unique_beer': 358873}]\n"
     ]
    }
   ],
   "source": [
    "# if we consider each beer is identified by a unique id, then this gives us how many beers there are in the database\n",
    "result_0 = secure_graph.run(\"\"\"\n",
    "         MATCH(beers:Beers) \n",
    "         RETURN count(distinct beers.id) as nr_unique_beer        \n",
    "\"\"\").data()\n",
    "pprint(result_0)"
   ]
  },
  {
   "cell_type": "code",
   "execution_count": 12,
   "metadata": {},
   "outputs": [
    {
     "data": {
      "text/plain": [
       "True"
      ]
     },
     "execution_count": 12,
     "metadata": {},
     "output_type": "execute_result"
    }
   ],
   "source": [
    "r.set(\"GROUP2:0\", \"358873\")"
   ]
  },
  {
   "cell_type": "markdown",
   "metadata": {},
   "source": [
    "**1** - How many countries are accounted in this database?"
   ]
  },
  {
   "cell_type": "code",
   "execution_count": 13,
   "metadata": {},
   "outputs": [
    {
     "name": "stdout",
     "output_type": "stream",
     "text": [
      "[{'nr_of_countries': 200}]\n"
     ]
    }
   ],
   "source": [
    "result_1 = secure_graph.run(\"\"\"\n",
    "         MATCH(c:Country) \n",
    "         RETURN count(c.country_digit) as nr_of_countries              \n",
    "\"\"\").data() \n",
    "pprint(result_1)"
   ]
  },
  {
   "cell_type": "code",
   "execution_count": 14,
   "metadata": {},
   "outputs": [
    {
     "data": {
      "text/plain": [
       "True"
      ]
     },
     "execution_count": 14,
     "metadata": {},
     "output_type": "execute_result"
    }
   ],
   "source": [
    "r.set(\"GROUP2:1\", \"200\")"
   ]
  },
  {
   "cell_type": "markdown",
   "metadata": {},
   "source": [
    "**2** - Which entity holds the most reviews:  \n",
    "    1. Beer?  \n",
    "    2. Brewery?\n",
    "    3. Country? \n",
    "    \n",
    "We only have direct reviews with beers, but if we want to know which entity for each type of node has the most indirect or direct reviews, then this is the answer:"
   ]
  },
  {
   "cell_type": "code",
   "execution_count": 15,
   "metadata": {},
   "outputs": [
    {
     "name": "stdout",
     "output_type": "stream",
     "text": [
      "Most reviewed beer: [{'beer_name': 'Breakfast Stout', 'beer_id': 11757, 'nr_reviews': 17160}, {'beer_name': '90 Minute IPA', 'beer_id': 2093, 'nr_reviews': 15947}]\n",
      "\n",
      "Most reviewed brewery: [{'brewery_name': 'Sierra Nevada Brewing Co.', 'nr_reviews': 175161}, {'brewery_name': 'Stone Brewing', 'nr_reviews': 173286}]\n",
      "\n",
      "Most reviewed country: [{'country_digit': 'US', 'nr_reviews': 7524410}, {'country_digit': 'BE', 'nr_reviews': 424003}]\n"
     ]
    }
   ],
   "source": [
    "# we use the beer id along with the name, because the id is the unique identifier of a beer\n",
    "result_2_beers = secure_graph.run(\"\"\"\n",
    "         MATCH (r:Reviews)-[to:ABOUT]-(be:Beers)\n",
    "         RETURN be.name as beer_name, be.id as beer_id, count(to) as nr_reviews\n",
    "         ORDER BY count(to) DESC\n",
    "         LIMIT 2\n",
    "\"\"\").data() \n",
    "print(f\"Most reviewed beer: {result_2_beers}\\n\")\n",
    "\n",
    "result_2_brewery = secure_graph.run(\"\"\"\n",
    "         MATCH (r:Reviews)-[to:ABOUT]-(be:Beers)-[ba:BREWED_AT]-(br:Breweries)\n",
    "         RETURN br.name as brewery_name, count(r) as nr_reviews       \n",
    "         ORDER BY count(r) DESC\n",
    "         LIMIT 2\n",
    "\"\"\").data() \n",
    "print(f\"Most reviewed brewery: {result_2_brewery}\\n\")\n",
    "\n",
    "result_2_country = secure_graph.run(\"\"\"\n",
    "         MATCH(r:Reviews)-[to:ABOUT]-(be:Beers)-[ba:BREWED_AT]-(br:Breweries)-[f:FROM]-(c:Country)\n",
    "         RETURN c.country_digit as country_digit, count(r) as nr_reviews   \n",
    "         ORDER BY count(r) DESC\n",
    "         LIMIT 2\n",
    "\"\"\").data() \n",
    "print(f\"Most reviewed country: {result_2_country}\")"
   ]
  },
  {
   "cell_type": "code",
   "execution_count": 31,
   "metadata": {},
   "outputs": [
    {
     "data": {
      "text/plain": [
       "True"
      ]
     },
     "execution_count": 31,
     "metadata": {},
     "output_type": "execute_result"
    }
   ],
   "source": [
    "question2 = {\n",
    "    \"Most Reviewed Beer\": \"beer_id - 11757, beer_name - Breakfast Stout\",\n",
    "    \"Most Reviewed Brewery\": \"Sierra Nevada Brewing Co.\",\n",
    "    \"Most Reviewed Country\": \"US\"\n",
    "}\n",
    "\n",
    "r.set(\"GROUP2:2\", json.dumps(question2))"
   ]
  },
  {
   "cell_type": "markdown",
   "metadata": {},
   "source": [
    "**3** - Find the user/users that have the most shared reviews (reviews on the same beers) with the user CTJman?"
   ]
  },
  {
   "cell_type": "code",
   "execution_count": 17,
   "metadata": {},
   "outputs": [
    {
     "name": "stdout",
     "output_type": "stream",
     "text": [
      "[{'shared_reviews': 1428, 'user_name': 'acurtis'},\n",
      " {'shared_reviews': 1257, 'user_name': 'Texasfan549'}]\n"
     ]
    }
   ],
   "source": [
    "result_3 = secure_graph.run(\"\"\"\n",
    "       MATCH (u1:Username{user_name:\"CTJman\"})-[:MADE]-(r1:Reviews)-[:ABOUT]-(b:Beers)-[:ABOUT]-(r2:Reviews)-[:MADE]-(u2:Username)\n",
    "       RETURN u2.user_name as user_name, count(r2) as shared_reviews\n",
    "       ORDER BY count(r2) DESC\n",
    "       LIMIT 2\n",
    "\"\"\").data() \n",
    "pprint(result_3)"
   ]
  },
  {
   "cell_type": "code",
   "execution_count": 18,
   "metadata": {},
   "outputs": [
    {
     "data": {
      "text/plain": [
       "True"
      ]
     },
     "execution_count": 18,
     "metadata": {},
     "output_type": "execute_result"
    }
   ],
   "source": [
    "r.set(\"GROUP2:3\", \"acurtis\")"
   ]
  },
  {
   "cell_type": "markdown",
   "metadata": {},
   "source": [
    "**4** - Which Portuguese brand has the most beers?"
   ]
  },
  {
   "cell_type": "code",
   "execution_count": 19,
   "metadata": {},
   "outputs": [
    {
     "name": "stdout",
     "output_type": "stream",
     "text": [
      "[{'brand': 'Dois Corvos Cervejeira', 'nr_of_beers': 40},\n",
      " {'brand': 'Unicer União Cervejeira S.A.', 'nr_of_beers': 22}]\n"
     ]
    }
   ],
   "source": [
    "result_4 = secure_graph.run(\"\"\"\n",
    "        MATCH (be:Beers)-[ba:BREWED_AT]-(br:Breweries)-[f:FROM]-(c:Country{country_digit:\"PT\"})\n",
    "        RETURN br.name as brand, count(be) as nr_of_beers\n",
    "        ORDER BY count(be) DESC\n",
    "        LIMIT 2\n",
    "\"\"\").data() \n",
    "pprint(result_4)"
   ]
  },
  {
   "cell_type": "code",
   "execution_count": 20,
   "metadata": {},
   "outputs": [
    {
     "data": {
      "text/plain": [
       "True"
      ]
     },
     "execution_count": 20,
     "metadata": {},
     "output_type": "execute_result"
    }
   ],
   "source": [
    "r.set(\"GROUP2:4\", \"Dois Corvos Cervejeira\")"
   ]
  },
  {
   "cell_type": "markdown",
   "metadata": {},
   "source": [
    "**5** - Out of those beers, which has the most reviews?"
   ]
  },
  {
   "cell_type": "code",
   "execution_count": 21,
   "metadata": {},
   "outputs": [
    {
     "name": "stdout",
     "output_type": "stream",
     "text": [
      "[{'beer': 'Finisterra', 'nr_of_reviews': 10},\n",
      " {'beer': 'Matiné', 'nr_of_reviews': 6}]\n"
     ]
    }
   ],
   "source": [
    "result_5 = secure_graph.run(\"\"\"\n",
    "        MATCH (r:Reviews)-[a:ABOUT]-(b:Beers)-[ba:BREWED_AT]-(br:Breweries{name:\"Dois Corvos Cervejeira\"})\n",
    "        RETURN b.name as beer, count(r) as nr_of_reviews\n",
    "        ORDER BY count(r) DESC\n",
    "        LIMIT 2\n",
    "\"\"\").data() \n",
    "pprint(result_5)"
   ]
  },
  {
   "cell_type": "code",
   "execution_count": 22,
   "metadata": {},
   "outputs": [
    {
     "data": {
      "text/plain": [
       "True"
      ]
     },
     "execution_count": 22,
     "metadata": {},
     "output_type": "execute_result"
    }
   ],
   "source": [
    "r.set(\"GROUP2:5\", \"Finisterra\")"
   ]
  },
  {
   "cell_type": "markdown",
   "metadata": {},
   "source": [
    "**6** - On average how many different beer styles does each brewery produce?"
   ]
  },
  {
   "cell_type": "code",
   "execution_count": 23,
   "metadata": {},
   "outputs": [
    {
     "name": "stdout",
     "output_type": "stream",
     "text": [
      "[{'avg_brewery_styles': 10.669977315921768}]\n"
     ]
    }
   ],
   "source": [
    "result_6 = secure_graph.run(\"\"\"    \n",
    "CALL{\n",
    "    MATCH (s:Style)-[t:OF_TYPE]-(be:Beers)-[ba:BREWED_AT]-(br:Breweries)\n",
    "    RETURN br.name as brewery, count(distinct s) as how_many_styles\n",
    "    }\n",
    "RETURN avg(how_many_styles) as avg_brewery_styles\n",
    "\"\"\").data() \n",
    "pprint(result_6)"
   ]
  },
  {
   "cell_type": "code",
   "execution_count": 32,
   "metadata": {},
   "outputs": [
    {
     "data": {
      "text/plain": [
       "True"
      ]
     },
     "execution_count": 32,
     "metadata": {},
     "output_type": "execute_result"
    }
   ],
   "source": [
    "r.set(\"GROUP2:6\", \"10.669977\")"
   ]
  },
  {
   "cell_type": "markdown",
   "metadata": {},
   "source": [
    "**7** - Which brewery produces the strongest beers according to ABV?\n",
    "\n",
    "We considered that the breweries with the strongest beers are the ones with the higher average beers' ABV value."
   ]
  },
  {
   "cell_type": "code",
   "execution_count": 25,
   "metadata": {},
   "outputs": [
    {
     "name": "stdout",
     "output_type": "stream",
     "text": [
      "[{'abv_value': 26.0, 'brewery': '1648 Brewing Company Ltd'},\n",
      " {'abv_value': 23.0, 'brewery': 'Schorschbräu'},\n",
      " {'abv_value': 21.0, 'brewery': \"Brouwerij 't Koelschip\"}]\n"
     ]
    }
   ],
   "source": [
    "result_7 = secure_graph.run(\"\"\"\n",
    "        MATCH (be:Beers)-[ba:BREWED_AT]-(br:Breweries)\n",
    "        WHERE be.abv <> 'Unknown'\n",
    "        RETURN br.name as brewery, round(avg(toFloat(be.abv))) as abv_value\n",
    "        ORDER BY abv_value desc\n",
    "        LIMIT 3\n",
    "\"\"\").data() \n",
    "pprint(result_7)"
   ]
  },
  {
   "cell_type": "code",
   "execution_count": 26,
   "metadata": {},
   "outputs": [
    {
     "data": {
      "text/plain": [
       "True"
      ]
     },
     "execution_count": 26,
     "metadata": {},
     "output_type": "execute_result"
    }
   ],
   "source": [
    "r.set(\"GROUP2:7\", \"1648 Brewing Company Ltd\")"
   ]
  },
  {
   "cell_type": "markdown",
   "metadata": {},
   "source": [
    "**8** - If I typically enjoy a beer due to its aroma and appearance, which beer style should I try?\n",
    "\n",
    "Considering smell as a proxy for aroma and look as a proxy for appearance, we believe the most adequate beer style is the one which has the highest average on smell and look combined. We also find it important to check the number of reviews indirectly made to each beer style to see if there is a significant number of responses that support the choice."
   ]
  },
  {
   "cell_type": "code",
   "execution_count": 27,
   "metadata": {},
   "outputs": [
    {
     "name": "stdout",
     "output_type": "stream",
     "text": [
      "[{'avg_look_score': 4.383595613210904,\n",
      "  'avg_smell_score': 4.41361476476119,\n",
      "  'beer_style': 'New England IPA',\n",
      "  'nr_reviews': 110696},\n",
      " {'avg_look_score': 4.286392481437848,\n",
      "  'avg_smell_score': 4.2628841976746354,\n",
      "  'beer_style': 'American Imperial Stout',\n",
      "  'nr_reviews': 352195},\n",
      " {'avg_look_score': 4.1749641745318,\n",
      "  'avg_smell_score': 4.230876612146084,\n",
      "  'beer_style': 'Belgian Gueuze',\n",
      "  'nr_reviews': 20237}]\n"
     ]
    }
   ],
   "source": [
    "result_8 = secure_graph.run(\"\"\"\n",
    "        MATCH (r:Reviews)-[a:ABOUT]-(be:Beers)-[:OF_TYPE]-(s:Style)\n",
    "        WHERE r.smell<>'Unkown' and r.look<>'Unknown'\n",
    "        RETURN s.name as beer_style, avg(toFloat(r.smell)) as avg_smell_score, avg(toFloat(r.look)) as avg_look_score, count(r) as nr_reviews\n",
    "        ORDER BY avg_smell_score+avg_look_score DESC, nr_reviews DESC\n",
    "        LIMIT 3\n",
    "\"\"\").data() \n",
    "pprint(result_8)"
   ]
  },
  {
   "cell_type": "code",
   "execution_count": 28,
   "metadata": {},
   "outputs": [
    {
     "data": {
      "text/plain": [
       "True"
      ]
     },
     "execution_count": 28,
     "metadata": {},
     "output_type": "execute_result"
    }
   ],
   "source": [
    "r.set(\"GROUP2:8\", \"New England IPA\")"
   ]
  },
  {
   "cell_type": "markdown",
   "metadata": {},
   "source": [
    "**9** - If you had to pick 3 beers to recommend using only this data, which would you pick?\n",
    "\n",
    "To recommend 3 beers we would want to consider the scores given by the customers and the number of reviews of each beer. For example, we wouldn't recommend a beer with an average score of 5 but with only 5 reviews."
   ]
  },
  {
   "cell_type": "code",
   "execution_count": 29,
   "metadata": {},
   "outputs": [
    {
     "name": "stdout",
     "output_type": "stream",
     "text": [
      "[{'avg_score': 4.874492753623187,\n",
      "  'beer_id': 197417,\n",
      "  'beer_name': '2 Candles',\n",
      "  'nr_reviews': 69},\n",
      " {'avg_score': 4.837735042735044,\n",
      "  'beer_id': 78820,\n",
      "  'beer_name': 'Kentucky Brunch Brand Stout',\n",
      "  'nr_reviews': 702},\n",
      " {'avg_score': 4.800911722141826,\n",
      "  'beer_id': 62397,\n",
      "  'beer_name': 'Rare Bourbon County Brand Stout (2010)',\n",
      "  'nr_reviews': 1382}]\n"
     ]
    }
   ],
   "source": [
    "result_9 = secure_graph.run(\"\"\"\n",
    "        MATCH (r:Reviews)-[a:ABOUT]-(be:Beers)\n",
    "        WHERE r.score <> 'Unkown' AND\n",
    "            EXISTS {\n",
    "                  MATCH (r:Reviews)-[a:ABOUT]->(be:Beers)\n",
    "                  WHERE size(()-[:ABOUT]-(be)) >= 50\n",
    "                    }\n",
    "        RETURN be.id as beer_id, be.name as beer_name, count(r) as nr_reviews, avg(toFloat(r.score)) as avg_score \n",
    "        ORDER BY avg_score DESC, nr_reviews DESC\n",
    "        LIMIT 3\n",
    "\"\"\").data() \n",
    "pprint(result_9)"
   ]
  },
  {
   "cell_type": "code",
   "execution_count": 30,
   "metadata": {},
   "outputs": [
    {
     "data": {
      "text/plain": [
       "True"
      ]
     },
     "execution_count": 30,
     "metadata": {},
     "output_type": "execute_result"
    }
   ],
   "source": [
    "question9 = {\n",
    "    \"Gold Medal\": \"beer_id - 197417, beer_name - 2 Candles\",\n",
    "    \"Silver Medal\": \"beer_id - 78820, beer_name - Kentucky Brunch Brand Stout\",\n",
    "    \"Bronze Medal\": \"beer_id - 62397, beer_name - Rare Bourbon County Brand Stout (2010)\"\n",
    "}\n",
    "r.set(\"GROUP2:9\", json.dumps(question9))"
   ]
  }
 ],
 "metadata": {
  "kernelspec": {
   "display_name": "Python 3",
   "language": "python",
   "name": "python3"
  },
  "language_info": {
   "codemirror_mode": {
    "name": "ipython",
    "version": 3
   },
   "file_extension": ".py",
   "mimetype": "text/x-python",
   "name": "python",
   "nbconvert_exporter": "python",
   "pygments_lexer": "ipython3",
   "version": "3.7.9"
  }
 },
 "nbformat": 4,
 "nbformat_minor": 4
}
